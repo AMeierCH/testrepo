{
 "cells": [
  {
   "cell_type": "markdown",
   "id": "223803d9-5f24-4b39-a00c-9234a8b652ec",
   "metadata": {},
   "source": [
    "# Data Science Tools and Ecosystem"
   ]
  },
  {
   "cell_type": "markdown",
   "id": "281d810d-6b86-45ce-977b-b6fcdd23d50e",
   "metadata": {},
   "source": [
    "In this notebook, Data Science Tools and Ecosystem are summarized."
   ]
  },
  {
   "cell_type": "markdown",
   "id": "6f499def-c762-4451-9d3f-3395aebfb92c",
   "metadata": {},
   "source": [
    "**Objectives:**\n",
    "- List popular languages for Data Science\n",
    "- List Libraries\n",
    "- List Data Science Tools\n",
    "- List examples of arithmetic expressions in Python"
   ]
  },
  {
   "cell_type": "markdown",
   "id": "5a27db70-6a9c-4858-b433-8d4e95f2a004",
   "metadata": {},
   "source": [
    "## Author\n",
    "Andreas Meier"
   ]
  },
  {
   "cell_type": "markdown",
   "id": "2e56fc8b-a5df-4998-9630-44740a9b9ee9",
   "metadata": {},
   "source": [
    "Some of the popular languages that Data Scientists use are:\n",
    "1. Python\n",
    "2. SQL\n",
    "3. Matlab\n",
    "4. C++"
   ]
  },
  {
   "cell_type": "markdown",
   "id": "7dcba64d-c1cc-4d21-aa10-e626019f5f0d",
   "metadata": {},
   "source": [
    "Some of the commonly used libraries used by Data Scientists include:\n",
    "1. Pandas\n",
    "2. Matplotlib\n",
    "3. Nympy"
   ]
  },
  {
   "cell_type": "markdown",
   "id": "93cbbe78-d870-4dcf-bc87-742c010d1a2e",
   "metadata": {},
   "source": [
    "## Data Science Tools"
   ]
  },
  {
   "cell_type": "markdown",
   "id": "f85b4471-208a-4240-bc7d-3ba181ed851e",
   "metadata": {},
   "source": [
    "| Data Science Tools |\n",
    "|:-|\n",
    "| ApacheSpark|\n",
    "|NumPy|\n",
    "|RStudio|"
   ]
  },
  {
   "cell_type": "markdown",
   "id": "ebefbb5f-72af-49e6-ab6c-7b45f6288fba",
   "metadata": {},
   "source": [
    "### Below are a few examples of evaluating arithmetic expressions in Python"
   ]
  },
  {
   "cell_type": "code",
   "execution_count": null,
   "id": "ae7697e4-2f4d-4cd5-8311-5f1ffe8680e2",
   "metadata": {},
   "outputs": [],
   "source": [
    ">>> -273.15\n",
    "-273.15\n",
    "\n",
    ">>> 5 - 2\n",
    "3"
   ]
  },
  {
   "cell_type": "markdown",
   "id": "f60b551a-33b6-4e7d-bcd5-52324cd65b2f",
   "metadata": {},
   "source": [
    "This a simple arithmetic expression to mutiply then add integers"
   ]
  },
  {
   "cell_type": "code",
   "execution_count": 2,
   "id": "ea6251b5-af44-4d3f-a7f9-aa349765cd3f",
   "metadata": {},
   "outputs": [
    {
     "data": {
      "text/plain": [
       "17"
      ]
     },
     "execution_count": 2,
     "metadata": {},
     "output_type": "execute_result"
    }
   ],
   "source": [
    "(3*4)+5"
   ]
  },
  {
   "cell_type": "markdown",
   "id": "7aee75ca-4324-4233-a25f-28ac27264813",
   "metadata": {},
   "source": [
    "This will convert 200 minutes to hours by diving by 60"
   ]
  },
  {
   "cell_type": "code",
   "execution_count": 5,
   "id": "a270cbba-c548-4b75-88f7-5325f64c6839",
   "metadata": {},
   "outputs": [
    {
     "data": {
      "text/plain": [
       "3.3333333333333335"
      ]
     },
     "execution_count": 5,
     "metadata": {},
     "output_type": "execute_result"
    }
   ],
   "source": [
    "200 / 60"
   ]
  },
  {
   "cell_type": "code",
   "execution_count": null,
   "id": "2f5bbb90-e252-4320-bf09-a9628e97a950",
   "metadata": {},
   "outputs": [],
   "source": []
  }
 ],
 "metadata": {
  "kernelspec": {
   "display_name": "Python 3 (ipykernel)",
   "language": "python",
   "name": "python3"
  },
  "language_info": {
   "codemirror_mode": {
    "name": "ipython",
    "version": 3
   },
   "file_extension": ".py",
   "mimetype": "text/x-python",
   "name": "python",
   "nbconvert_exporter": "python",
   "pygments_lexer": "ipython3",
   "version": "3.13.0"
  }
 },
 "nbformat": 4,
 "nbformat_minor": 5
}
